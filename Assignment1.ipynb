{
 "cells": [
  {
   "cell_type": "markdown",
   "metadata": {},
   "source": [
    "# (1)\n",
    "Easy to use and learn, widely use in industries, alot of librabries, huge community of python users, easy to debug, Interpreted language, etc.\n"
   ]
  },
  {
   "cell_type": "markdown",
   "metadata": {},
   "source": [
    "# (2)\n"
   ]
  },
  {
   "cell_type": "code",
   "execution_count": 3,
   "metadata": {},
   "outputs": [
    {
     "name": "stdout",
     "output_type": "stream",
     "text": [
      "\n",
      "Here is a list of the Python keywords.  Enter any keyword to get more help.\n",
      "\n",
      "False               class               from                or\n",
      "None                continue            global              pass\n",
      "True                def                 if                  raise\n",
      "and                 del                 import              return\n",
      "as                  elif                in                  try\n",
      "assert              else                is                  while\n",
      "async               except              lambda              with\n",
      "await               finally             nonlocal            yield\n",
      "break               for                 not                 \n",
      "\n"
     ]
    }
   ],
   "source": [
    "help('keywords')"
   ]
  },
  {
   "cell_type": "code",
   "execution_count": 30,
   "metadata": {},
   "outputs": [],
   "source": [
    "def my_function():\n",
    "    print(\"Hello, World!\")\n"
   ]
  },
  {
   "cell_type": "code",
   "execution_count": 32,
   "metadata": {},
   "outputs": [
    {
     "name": "stdout",
     "output_type": "stream",
     "text": [
      "0\n",
      "1\n",
      "2\n",
      "3\n",
      "4\n"
     ]
    }
   ],
   "source": [
    "for i in range(5):\n",
    "    print(i)\n"
   ]
  },
  {
   "cell_type": "code",
   "execution_count": 31,
   "metadata": {},
   "outputs": [
    {
     "name": "stdout",
     "output_type": "stream",
     "text": [
      "elgiable for driving license\n"
     ]
    }
   ],
   "source": [
    "# if and else \n",
    "age = 18\n",
    "if age >= 18:\n",
    "    print(\"elgiable for driving license\")\n",
    "else:\n",
    "    print(\"Not eligable for driving license\")\n"
   ]
  },
  {
   "cell_type": "markdown",
   "metadata": {},
   "source": [
    "# (3)"
   ]
  },
  {
   "cell_type": "code",
   "execution_count": 33,
   "metadata": {},
   "outputs": [
    {
     "name": "stdout",
     "output_type": "stream",
     "text": [
      "[1, 2, 3]\n",
      "[1, 2, 3, 4]\n"
     ]
    }
   ],
   "source": [
    "\n",
    "# Example with a list\n",
    "my_list = [1, 2, 3]\n",
    "print(my_list)  # Output: [1, 2, 3]\n",
    "\n",
    "# Modifying the list\n",
    "my_list.append(4)\n",
    "print(my_list)  # Output: [1, 2, 3, 4]\n"
   ]
  },
  {
   "cell_type": "code",
   "execution_count": 3,
   "metadata": {},
   "outputs": [
    {
     "name": "stdout",
     "output_type": "stream",
     "text": [
      "Hello\n",
      "Hello World\n"
     ]
    }
   ],
   "source": [
    "# Example with a string\n",
    "my_string = \"Hello\"\n",
    "print(my_string)  # Output: Hello\n",
    "\n",
    "# Trying to modify the string (this creates a new string)\n",
    "my_string = my_string + \" World\"\n",
    "print(my_string)  # Output: Hello World\n"
   ]
  },
  {
   "cell_type": "markdown",
   "metadata": {},
   "source": [
    "# (4)\n",
    "Operator\tDescription\tExample\n",
    "+\tAddition\t3 + 2 = 5\n",
    "-\tSubtraction\t5 - 2 = 3\n",
    "*\tMultiplication\t3 * 2 = 6\n",
    "/\tDivision (float)\t5 / 2 = 2.5\n",
    "//\tFloor Division\t5 // 2 = 2\n",
    "%\tModulus (remainder)\t5 % 2 = 1\n",
    "**\tExponentiation\t2 ** 3 = 8"
   ]
  },
  {
   "cell_type": "code",
   "execution_count": 8,
   "metadata": {},
   "outputs": [
    {
     "name": "stdout",
     "output_type": "stream",
     "text": [
      "13\n",
      "3\n",
      "1\n"
     ]
    }
   ],
   "source": [
    "x = 10\n",
    "y = 3\n",
    "print(x + y)   # Output: 13 (Addition)\n",
    "print(x // y)  # Output: 3 (Floor division)\n",
    "print(x % y)   # Output: 1 (Modulus)\n"
   ]
  },
  {
   "cell_type": "markdown",
   "metadata": {},
   "source": [
    "Comparison Operations\n",
    "Operator\tDescription\t                     Example\n",
    "==\t         Equal to\t                     3 == 3 (True)\n",
    "!=\t         Not equal to \t                 3 != 2 (True)\n",
    ">\t         Greater than\t                 5 > 3  (True)\n",
    "<\t         Less than\t                     2 < 5  (True)\n",
    ">=\t        Greater than or equal to\t     5 >= 5 (True)\n",
    "<=\t        Less than or equal to\t         3 <= 5 (True)"
   ]
  },
  {
   "cell_type": "code",
   "execution_count": 12,
   "metadata": {},
   "outputs": [
    {
     "name": "stdout",
     "output_type": "stream",
     "text": [
      "True\n",
      "False\n"
     ]
    }
   ],
   "source": [
    "x = 7\n",
    "y = 5\n",
    "print(x > y)   # Output: True\n",
    "print(x == y)  # Output: False\n"
   ]
  },
  {
   "cell_type": "code",
   "execution_count": 14,
   "metadata": {},
   "outputs": [
    {
     "name": "stdout",
     "output_type": "stream",
     "text": [
      "True\n",
      "True\n"
     ]
    }
   ],
   "source": [
    "# logical operator\n",
    "x = 10\n",
    "y = 5\n",
    "print(x > 5 and y < 10)  # Output: True (both conditions are True)\n",
    "print(not (x == y))      # Output: True (because x == y is False)\n"
   ]
  },
  {
   "cell_type": "code",
   "execution_count": null,
   "metadata": {},
   "outputs": [],
   "source": [
    "# bitwise operator\n",
    "x = 6  # Binary: 110\n",
    "y = 3  # Binary: 011\n",
    "print(x & y)  # Output: 2 (Binary: 010, bitwise AND)\n",
    "print(x | y)  # Output: 7 (Binary: 111, bitwise OR)\n"
   ]
  },
  {
   "cell_type": "code",
   "execution_count": 16,
   "metadata": {},
   "outputs": [
    {
     "name": "stdout",
     "output_type": "stream",
     "text": [
      "8\n"
     ]
    }
   ],
   "source": [
    "# assignment operator\n",
    "x = 5\n",
    "x += 3  # Equivalent to x = x + 3\n",
    "print(x)  # Output: 8\n"
   ]
  },
  {
   "cell_type": "code",
   "execution_count": 17,
   "metadata": {},
   "outputs": [
    {
     "name": "stdout",
     "output_type": "stream",
     "text": [
      "False\n",
      "True\n",
      "True\n"
     ]
    }
   ],
   "source": [
    "x = [1, 2, 3]\n",
    "y = [1, 2, 3]\n",
    "print(x is y)  # Output: False (different memory locations)\n",
    "print(x == y)  # Output: True (same values)\n",
    "\n",
    "z = x\n",
    "print(x is z)  # Output: True (same object)\n"
   ]
  },
  {
   "cell_type": "code",
   "execution_count": 19,
   "metadata": {},
   "outputs": [
    {
     "name": "stdout",
     "output_type": "stream",
     "text": [
      "20\n"
     ]
    }
   ],
   "source": [
    "my_list = [10, 20, 30, 40]\n",
    "print(my_list[1])  # Output: 20 (indexing starts at 0)\n"
   ]
  },
  {
   "cell_type": "code",
   "execution_count": 21,
   "metadata": {},
   "outputs": [
    {
     "name": "stdout",
     "output_type": "stream",
     "text": [
      "7.0\n",
      "<class 'float'>\n"
     ]
    }
   ],
   "source": [
    "# Implicit typecasting from int to float\n",
    "x = 5       # Integer\n",
    "y = 2.0     # Float\n",
    "result = x + y   # Python implicitly converts 'x' to float before performing addition\n",
    "print(result)    # Output: 7.0 (float)\n",
    "print(type(result))  # Output: <class 'float'>\n"
   ]
  },
  {
   "cell_type": "code",
   "execution_count": 40,
   "metadata": {},
   "outputs": [
    {
     "name": "stdout",
     "output_type": "stream",
     "text": [
      "100\n",
      "<class 'int'>\n"
     ]
    }
   ],
   "source": [
    "# Explicit typecasting from string to integer\n",
    "num_str = \"100\"      # String representing an integer\n",
    "num_int = int(num_str)  # Manually convert to integer\n",
    "print(num_int)  # Output: 100\n",
    "print(type(num_int))  # Output: <class 'int'>\n"
   ]
  },
  {
   "cell_type": "code",
   "execution_count": 39,
   "metadata": {},
   "outputs": [
    {
     "name": "stdout",
     "output_type": "stream",
     "text": [
      "(1, 2, 3)\n",
      "[1, 2, 3]\n"
     ]
    }
   ],
   "source": [
    "# Converting a list to a tuple\n",
    "my_list = [1, 2, 3]\n",
    "my_tuple = tuple(my_list)  # Convert list to tuple\n",
    "print(my_tuple)  # Output: (1, 2, 3)\n",
    "\n",
    "# Converting a tuple to a list\n",
    "new_list = list(my_tuple)  # Convert tuple back to list\n",
    "print(new_list)  # Output: [1, 2, 3]\n"
   ]
  },
  {
   "cell_type": "code",
   "execution_count": 38,
   "metadata": {},
   "outputs": [
    {
     "name": "stdout",
     "output_type": "stream",
     "text": [
      "50\n",
      "<class 'str'>\n"
     ]
    }
   ],
   "source": [
    "# Explicit typecasting from integer to string\n",
    "num = 50\n",
    "num_str = str(num)  # Convert integer to string\n",
    "print(num_str)  # Output: \"50\"\n",
    "print(type(num_str))  # Output: <class 'str'>\n"
   ]
  },
  {
   "cell_type": "code",
   "execution_count": 20,
   "metadata": {},
   "outputs": [
    {
     "name": "stdout",
     "output_type": "stream",
     "text": [
      "{1, 2, 3, 4}\n"
     ]
    }
   ],
   "source": [
    "#Converting a list to a set\n",
    "my_list = [1, 2, 2, 3, 4]\n",
    "my_set = set(my_list)  # Convert list to set (removes duplicates)\n",
    "print(my_set)  # Output: {1, 2, 3, 4}\n"
   ]
  },
  {
   "cell_type": "code",
   "execution_count": 28,
   "metadata": {},
   "outputs": [
    {
     "name": "stdout",
     "output_type": "stream",
     "text": [
      "1\n",
      "2\n",
      "3\n",
      "4\n",
      "56\n",
      "gangsigns\n",
      "om\n",
      "the om will be executed\n"
     ]
    }
   ],
   "source": [
    "# 4) conditional statement \n",
    "a = [1,2,3,4,45,56,\"gangsigns\",\"om\"]\n",
    "for a in a:\n",
    "    if a == 45:\n",
    "        continue\n",
    "    print(a)\n",
    "else:\n",
    "    print(\"the om will be executed\")"
   ]
  },
  {
   "cell_type": "code",
   "execution_count": 23,
   "metadata": {},
   "outputs": [
    {
     "name": "stdout",
     "output_type": "stream",
     "text": [
      "You are eligible to apply for a visa.\n"
     ]
    }
   ],
   "source": [
    "age = 25\n",
    "has_passport = True\n",
    "\n",
    "if age >= 18 and has_passport:\n",
    "    print(\"You are eligible to apply for a visa.\")\n",
    "else:\n",
    "    print(\"You are not eligible to apply for a visa.\")\n"
   ]
  },
  {
   "cell_type": "code",
   "execution_count": 24,
   "metadata": {},
   "outputs": [
    {
     "name": "stdout",
     "output_type": "stream",
     "text": [
      "Grade: C\n"
     ]
    }
   ],
   "source": [
    "marks = 75\n",
    "\n",
    "if marks >= 90:\n",
    "    print(\"Grade: A\")\n",
    "elif marks >= 80:\n",
    "    print(\"Grade: B\")\n",
    "elif marks >= 70:\n",
    "    print(\"Grade: C\")\n",
    "else:\n",
    "    print(\"Grade: D\")\n"
   ]
  },
  {
   "cell_type": "code",
   "execution_count": 25,
   "metadata": {},
   "outputs": [
    {
     "name": "stdout",
     "output_type": "stream",
     "text": [
      "*\n",
      "* *\n",
      "* * *\n",
      "* * * *\n"
     ]
    }
   ],
   "source": [
    "#5) for and  if \n",
    "for a in(\"*\"):\n",
    "    print(a)\n",
    "    b= \"* *\"\n",
    "    if b in(\"* *\"):\n",
    "        print(b)\n",
    "        c= \"* * *\"\n",
    "        if c in(\"* * *\"):\n",
    "            print(c)\n",
    "            d= \"* * * *\"\n",
    "            if d in(\"* * * *\"):\n",
    "                print(d)\n"
   ]
  },
  {
   "cell_type": "code",
   "execution_count": 26,
   "metadata": {},
   "outputs": [
    {
     "name": "stdout",
     "output_type": "stream",
     "text": [
      "1\n",
      "2\n",
      "3\n",
      "4\n",
      "5\n"
     ]
    }
   ],
   "source": [
    "# while loop\n",
    "i = 1\n",
    "while i <= 5:\n",
    "    print(i)\n",
    "    i += 1  # Increment the counter\n"
   ]
  },
  {
   "cell_type": "code",
   "execution_count": null,
   "metadata": {},
   "outputs": [],
   "source": [
    "#break loop\n",
    "for i in range(10):\n",
    "    if i == 5:\n",
    "        break  # Exit the loop when i equals 5\n",
    "    print(i)\n"
   ]
  },
  {
   "cell_type": "code",
   "execution_count": 27,
   "metadata": {},
   "outputs": [
    {
     "name": "stdout",
     "output_type": "stream",
     "text": [
      "0\n",
      "1\n",
      "2\n",
      "4\n"
     ]
    }
   ],
   "source": [
    "# continue loop\n",
    "for i in range(5):\n",
    "    if i == 3:\n",
    "        continue  # Skip the rest of the loop when i equals 3\n",
    "    print(i)\n"
   ]
  }
 ],
 "metadata": {
  "kernelspec": {
   "display_name": "Python 3",
   "language": "python",
   "name": "python3"
  },
  "language_info": {
   "codemirror_mode": {
    "name": "ipython",
    "version": 3
   },
   "file_extension": ".py",
   "mimetype": "text/x-python",
   "name": "python",
   "nbconvert_exporter": "python",
   "pygments_lexer": "ipython3",
   "version": "3.11.9"
  }
 },
 "nbformat": 4,
 "nbformat_minor": 2
}
